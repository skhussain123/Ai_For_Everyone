{
 "cells": [
  {
   "cell_type": "markdown",
   "id": "45c3f46b",
   "metadata": {},
   "source": [
    "# **AWFERA : Python Course**\n",
    "\n",
    "# **Lecture No : 21+22**\n",
    "\n",
    "# **Topic : Introduction to FastAPI For Beginners And Required and optional Parameters**"
   ]
  },
  {
   "cell_type": "markdown",
   "id": "953abdf1",
   "metadata": {},
   "source": [
    " ## **Welcome To Fast API**"
   ]
  },
  {
   "cell_type": "markdown",
   "id": "a2b763cd",
   "metadata": {},
   "source": [
    "In our previous lessons , we have to study how to powerful use of AI APIs from OpenAI and Google AI Studio.\n",
    "\n",
    "Today , We have to learn about **FastAPI** , which is enable to us to make AI project from user."
   ]
  },
  {
   "cell_type": "markdown",
   "id": "6bd0d179",
   "metadata": {},
   "source": [
    "By the end of this lectures , we'll able to\n",
    "\n",
    "1. Understand what is **FastAPI** and why its useful\n",
    "\n",
    "2. Create a Simple **FastAPI** application\n",
    "\n",
    "3. Build basic API **endpoints**"
   ]
  },
  {
   "cell_type": "markdown",
   "id": "b7b778c0",
   "metadata": {},
   "source": [
    "# **Definition:**\n",
    "\n",
    "#### FastAPI is a modern , **fast web framework** for building APIs with Pyhton. Its designed to be easy to use and learn.\n",
    "\n",
    "**Key Features of FastAPI include:**\n",
    "\n",
    "**Fast** : Pne of the fastest Pyhton frameworks available\n",
    "\n",
    "**Easy to Learn** :Simple and intuitive for beginners\n",
    "**\n",
    "Automatic documentation** : Create interative API documentation for you\n",
    "\n",
    "**Type hints** : Uses Python type hints for validation\n",
    "\n",
    "**Modern**: Based On Python 3.6 Features"
   ]
  },
  {
   "cell_type": "markdown",
   "id": "35633eb0",
   "metadata": {},
   "source": [
    "# 🍽️ FastAPI: A Restaurant Analogy\n",
    "\n",
    "To understand what **FastAPI** does, let's compare it to a **restaurant**:\n",
    "\n",
    "## 🧑‍💻 Real World Mapping\n",
    "\n",
    "| Real World           | FastAPI Equivalent         |\n",
    "|----------------------|----------------------------|\n",
    "| Customer             | Client sending a request   |\n",
    "| Waiter               | FastAPI handling the request |\n",
    "| Kitchen              | Backend logic or database  |\n",
    "| Menu                 | Auto-generated API docs (Swagger UI) |\n",
    "| Order instructions   | Request parameters / data  |\n",
    "| Food delivered       | API response               |\n",
    "\n",
    "## 🔍 Explanation\n",
    "\n",
    "- **Customer (Client)**: Sends a request, like ordering a dish.\n",
    "- **Waiter (FastAPI)**: Receives the request, validates it (e.g., checks if ingredients are available), and sends it to the kitchen.\n",
    "- **Kitchen (Backend)**: Processes the request and prepares the response (like cooking the meal).\n",
    "- **Menu (Docs)**: FastAPI auto-generates a Swagger UI that lists all the available endpoints and how to use them.\n",
    "- **Fast Delivery**: FastAPI is optimized for speed and efficiency, just like a modern restaurant.\n",
    "\n",
    "> 📝 With FastAPI, you get fast, well-documented, and reliable APIs—just like great restaurant service!\n",
    "\n"
   ]
  },
  {
   "cell_type": "markdown",
   "id": "3edca235",
   "metadata": {},
   "source": [
    "# 🤖 Why Do We Need APIs for Our AI Project?\n",
    "\n",
    "APIs (Application Programming Interfaces) are essential for integrating and using AI models in real-world applications. Here's why:\n",
    "\n",
    "## 🔧 1. **Access AI Models Easily**\n",
    "APIs allow you to connect your app or frontend to powerful AI models without rebuilding them each time. Just send input, get output!\n",
    "\n",
    "## 🌐 2. **Enable Web or Mobile Access**\n",
    "With an API, your AI logic (e.g., image classification, NLP) can be accessed via the internet from any device or platform.\n",
    "\n",
    "## 🔄 3. **Scalability and Modularity**\n",
    "APIs keep your AI project modular. You can update the AI model or logic without affecting the whole system.\n",
    "\n",
    "## 🛡️ 4. **Security and Validation**\n",
    "APIs help control who can access your model, what data they can send, and how the responses are handled.\n",
    "\n",
    "## 📊 5. **Real-Time Interaction**\n",
    "APIs enable real-time communication between users and your AI system, like chatbots, recommendation engines, or voice assistants.\n",
    "\n",
    "> ✅ In short, APIs turn your AI model into a usable, secure, and scalable service.\n"
   ]
  },
  {
   "cell_type": "markdown",
   "id": "6465786d",
   "metadata": {},
   "source": [
    "# ⚙️ Setting Up FastAPI\n",
    "\n",
    "To use Fast API we need to install it first , In a real environment , you would run this command:"
   ]
  },
  {
   "cell_type": "code",
   "execution_count": null,
   "id": "362f42b1",
   "metadata": {},
   "outputs": [],
   "source": [
    "#Install FastAPI and Uvicorn (ASGI Server)\n",
    "#pip install fastapi uvicorn"
   ]
  },
  {
   "cell_type": "markdown",
   "id": "f27d85df",
   "metadata": {},
   "source": [
    "## What are we installing?\n",
    "\n",
    "**fastapi**: The main framework.\n",
    "\n",
    "**uvicorn**: ASGI ( Asynchronously Server Gateway Interface))server to run the app\n",
    "\n",
    "Uvicorn is a lightning-fast ASGI server that runs FastAPI applications. It handles HTTP Multiple requests and responses asynchronously for high performance"
   ]
  },
  {
   "cell_type": "markdown",
   "id": "a84ab4fe",
   "metadata": {},
   "source": [
    "# 🚀 Creating Your First FastAPI Application\n",
    "\n",
    "Follow these steps to build a simple FastAPI app:\n",
    "\n",
    "## ✅ Step 1: Create a Python File (`main.py`)"
   ]
  },
  {
   "cell_type": "markdown",
   "id": "f1214742",
   "metadata": {},
   "source": [
    "Lets create simple FastAPI application. Below is a link to a Python file a basic \"Hello World\"\n"
   ]
  },
  {
   "cell_type": "code",
   "execution_count": null,
   "id": "62e89b3d",
   "metadata": {},
   "outputs": [],
   "source": [
    "#hello_world_main.py"
   ]
  },
  {
   "cell_type": "markdown",
   "id": "47ba88cd",
   "metadata": {},
   "source": [
    "what the code does:\n",
    "\n",
    "1  .This creates a FastAPI application instance named app. (tille , description,)\n",
    "\n",
    "2 . @app.get(\"/\") : This creates an endpoint at the root URL(/)\n",
    "\n",
    "3 .  @app.get(\"/\") : This Create an Endpoint that  acceptable \n",
    "\n",
    "\n"
   ]
  },
  {
   "cell_type": "markdown",
   "id": "92bb2d60",
   "metadata": {},
   "source": [
    "# **What are Routes/Endspoints?**"
   ]
  },
  {
   "cell_type": "markdown",
   "id": "2b1b2fea",
   "metadata": {},
   "source": [
    "- **Route**: `@app.get(\"/hello\")` → Defines the URL path `/hello` for a GET request.\n",
    "- **Endpoint**: `def say_hello():` → The function that runs when the `/hello` route is accessed.\n"
   ]
  },
  {
   "cell_type": "markdown",
   "id": "2bccec0b",
   "metadata": {},
   "source": [
    "# 🚀 Running Your FastAPI Application\n",
    "\n",
    "## ✅ Steps to Run\n",
    "\n",
    "1. **Save your code** in a file, e.g., `main.py`.\n",
    "\n",
    "2. **Install FastAPI and Uvicorn** (if not already):\n",
    "```bash\n",
    "pip install fastapi uvicorn\n",
    "\n",
    "Run the app using Uvicorn:\n",
    "\n",
    "uvicorn main:app --reload when you make changing in your code use this command flag automaticlly restart"
   ]
  },
  {
   "cell_type": "markdown",
   "id": "11e1fa76",
   "metadata": {},
   "source": [
    "# 📄 Automatic API Documentation in FastAPI\n",
    "\n",
    "FastAPI automatically generates interactive API docs for you.\n",
    "\n",
    "## ✅ Available Docs\n",
    "\n",
    "1. **Swagger UI**  \n",
    "   - URL: `http://127.0.0.1:8000/docs` [Lecture 21](http://127.0.0.1:8000/docs#/default/greet_user_hello__name__get)\n",
    " \n",
    "   - Features: Test endpoints, view request/response structure. [lecture 22](http://127.0.0.1:8000/docs#/default/process_text_process_text__post)\n",
    "\n",
    "2. **ReDoc**  \n",
    "   - URL: `http://127.0.0.1:8000/redoc`  \n",
    "   - Features: Clean, readable API reference documentation."
   ]
  }
 ],
 "metadata": {
  "kernelspec": {
   "display_name": "fastapi-awfera",
   "language": "python",
   "name": "python3"
  },
  "language_info": {
   "name": "python",
   "version": "3.11.13"
  }
 },
 "nbformat": 4,
 "nbformat_minor": 5
}
